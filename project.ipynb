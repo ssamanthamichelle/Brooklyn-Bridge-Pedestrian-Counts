{
 "cells": [
  {
   "cell_type": "markdown",
   "metadata": {},
   "source": [
    "Samantha M. Garcia\n",
    "Data Management & Analysis\n",
    "Assignment 4"
   ]
  },
  {
   "cell_type": "markdown",
   "metadata": {},
   "source": [
    "Dataset: Brooklyn Bridge Automated Pedestrian Counts Demonstration Project\n",
    "Source: NYC Open data\n",
    "https://data.cityofnewyork.us/Transportation/Brooklyn-Bridge-Automated-Pedestrian-Counts-Demons/6fi9-q3ta"
   ]
  },
  {
   "cell_type": "markdown",
   "metadata": {},
   "source": [
    "The Department of Transit used automated technology to count the number of pedestrians on the Brooklyn Bridge. This dataset holds records of the number of people, the direction they were heading (to Brooklyn or Manhattan), the weather, precipitation, date & time, and exact location.\n",
    "\n",
    "I'm not sure what I'd like to do with this data. It would be interesting to look at which direction people most frequently walk, however it is likely that people walk one way and then walk back, so it is possible that people are double counted"
   ]
  },
  {
   "cell_type": "code",
   "execution_count": 1,
   "metadata": {},
   "outputs": [],
   "source": [
    "import pandas as pd\n",
    "import datetime as dt"
   ]
  },
  {
   "cell_type": "code",
   "execution_count": 2,
   "metadata": {},
   "outputs": [
    {
     "data": {
      "text/html": [
       "<div>\n",
       "<style scoped>\n",
       "    .dataframe tbody tr th:only-of-type {\n",
       "        vertical-align: middle;\n",
       "    }\n",
       "\n",
       "    .dataframe tbody tr th {\n",
       "        vertical-align: top;\n",
       "    }\n",
       "\n",
       "    .dataframe thead th {\n",
       "        text-align: right;\n",
       "    }\n",
       "</style>\n",
       "<table border=\"1\" class=\"dataframe\">\n",
       "  <thead>\n",
       "    <tr style=\"text-align: right;\">\n",
       "      <th></th>\n",
       "      <th>hour_beginning</th>\n",
       "      <th>location</th>\n",
       "      <th>Pedestrians</th>\n",
       "      <th>Towards Manhattan</th>\n",
       "      <th>Towards Brooklyn</th>\n",
       "      <th>weather_summary</th>\n",
       "      <th>temperature</th>\n",
       "      <th>precipitation</th>\n",
       "      <th>lat</th>\n",
       "      <th>long</th>\n",
       "      <th>events</th>\n",
       "      <th>Location1</th>\n",
       "    </tr>\n",
       "  </thead>\n",
       "  <tbody>\n",
       "    <tr>\n",
       "      <td>0</td>\n",
       "      <td>11/12/2017 06:00:00 AM</td>\n",
       "      <td>Brooklyn Bridge</td>\n",
       "      <td>38</td>\n",
       "      <td>23</td>\n",
       "      <td>15</td>\n",
       "      <td>clear-night</td>\n",
       "      <td>30.0</td>\n",
       "      <td>0.0000</td>\n",
       "      <td>40.708164</td>\n",
       "      <td>-73.999509</td>\n",
       "      <td>NaN</td>\n",
       "      <td>(40.7081639691088, -73.9995087014816)</td>\n",
       "    </tr>\n",
       "    <tr>\n",
       "      <td>1</td>\n",
       "      <td>11/29/2017 01:00:00 AM</td>\n",
       "      <td>Brooklyn Bridge</td>\n",
       "      <td>11</td>\n",
       "      <td>7</td>\n",
       "      <td>4</td>\n",
       "      <td>clear-night</td>\n",
       "      <td>48.0</td>\n",
       "      <td>0.0000</td>\n",
       "      <td>40.708164</td>\n",
       "      <td>-73.999509</td>\n",
       "      <td>NaN</td>\n",
       "      <td>(40.7081639691088, -73.9995087014816)</td>\n",
       "    </tr>\n",
       "    <tr>\n",
       "      <td>2</td>\n",
       "      <td>12/17/2017 10:00:00 PM</td>\n",
       "      <td>Brooklyn Bridge</td>\n",
       "      <td>168</td>\n",
       "      <td>99</td>\n",
       "      <td>69</td>\n",
       "      <td>partly-cloudy-night</td>\n",
       "      <td>35.0</td>\n",
       "      <td>0.0000</td>\n",
       "      <td>40.708164</td>\n",
       "      <td>-73.999509</td>\n",
       "      <td>NaN</td>\n",
       "      <td>(40.7081639691088, -73.9995087014816)</td>\n",
       "    </tr>\n",
       "    <tr>\n",
       "      <td>3</td>\n",
       "      <td>11/10/2017 12:00:00 PM</td>\n",
       "      <td>Brooklyn Bridge</td>\n",
       "      <td>1213</td>\n",
       "      <td>506</td>\n",
       "      <td>707</td>\n",
       "      <td>clear-day</td>\n",
       "      <td>36.0</td>\n",
       "      <td>0.0001</td>\n",
       "      <td>40.708164</td>\n",
       "      <td>-73.999509</td>\n",
       "      <td>Veterans Day observed</td>\n",
       "      <td>(40.7081639691088, -73.9995087014816)</td>\n",
       "    </tr>\n",
       "    <tr>\n",
       "      <td>4</td>\n",
       "      <td>01/24/2018 11:00:00 AM</td>\n",
       "      <td>Brooklyn Bridge</td>\n",
       "      <td>535</td>\n",
       "      <td>298</td>\n",
       "      <td>237</td>\n",
       "      <td>partly-cloudy-day</td>\n",
       "      <td>40.0</td>\n",
       "      <td>0.0000</td>\n",
       "      <td>40.708164</td>\n",
       "      <td>-73.999509</td>\n",
       "      <td>NaN</td>\n",
       "      <td>(40.7081639691088, -73.9995087014816)</td>\n",
       "    </tr>\n",
       "    <tr>\n",
       "      <td>...</td>\n",
       "      <td>...</td>\n",
       "      <td>...</td>\n",
       "      <td>...</td>\n",
       "      <td>...</td>\n",
       "      <td>...</td>\n",
       "      <td>...</td>\n",
       "      <td>...</td>\n",
       "      <td>...</td>\n",
       "      <td>...</td>\n",
       "      <td>...</td>\n",
       "      <td>...</td>\n",
       "      <td>...</td>\n",
       "    </tr>\n",
       "    <tr>\n",
       "      <td>7291</td>\n",
       "      <td>06/22/2018 04:00:00 AM</td>\n",
       "      <td>Brooklyn Bridge</td>\n",
       "      <td>7</td>\n",
       "      <td>4</td>\n",
       "      <td>3</td>\n",
       "      <td>partly-cloudy-night</td>\n",
       "      <td>67.0</td>\n",
       "      <td>0.0000</td>\n",
       "      <td>40.708164</td>\n",
       "      <td>-73.999509</td>\n",
       "      <td>NaN</td>\n",
       "      <td>(40.7081639691088, -73.9995087014816)</td>\n",
       "    </tr>\n",
       "    <tr>\n",
       "      <td>7292</td>\n",
       "      <td>07/19/2018 06:00:00 AM</td>\n",
       "      <td>Brooklyn Bridge</td>\n",
       "      <td>192</td>\n",
       "      <td>89</td>\n",
       "      <td>103</td>\n",
       "      <td>clear-day</td>\n",
       "      <td>65.0</td>\n",
       "      <td>0.0000</td>\n",
       "      <td>40.708164</td>\n",
       "      <td>-73.999509</td>\n",
       "      <td>NaN</td>\n",
       "      <td>(40.7081639691088, -73.9995087014816)</td>\n",
       "    </tr>\n",
       "    <tr>\n",
       "      <td>7293</td>\n",
       "      <td>06/16/2018 04:00:00 PM</td>\n",
       "      <td>Brooklyn Bridge</td>\n",
       "      <td>2623</td>\n",
       "      <td>1161</td>\n",
       "      <td>1462</td>\n",
       "      <td>clear-day</td>\n",
       "      <td>82.0</td>\n",
       "      <td>0.0000</td>\n",
       "      <td>40.708164</td>\n",
       "      <td>-73.999509</td>\n",
       "      <td>NaN</td>\n",
       "      <td>(40.7081639691088, -73.9995087014816)</td>\n",
       "    </tr>\n",
       "    <tr>\n",
       "      <td>7294</td>\n",
       "      <td>07/24/2018 06:00:00 PM</td>\n",
       "      <td>Brooklyn Bridge</td>\n",
       "      <td>2016</td>\n",
       "      <td>1069</td>\n",
       "      <td>947</td>\n",
       "      <td>partly-cloudy-day</td>\n",
       "      <td>80.0</td>\n",
       "      <td>0.0000</td>\n",
       "      <td>40.708164</td>\n",
       "      <td>-73.999509</td>\n",
       "      <td>NaN</td>\n",
       "      <td>(40.7081639691088, -73.9995087014816)</td>\n",
       "    </tr>\n",
       "    <tr>\n",
       "      <td>7295</td>\n",
       "      <td>07/23/2018 12:00:00 AM</td>\n",
       "      <td>Brooklyn Bridge</td>\n",
       "      <td>57</td>\n",
       "      <td>20</td>\n",
       "      <td>37</td>\n",
       "      <td>cloudy</td>\n",
       "      <td>75.0</td>\n",
       "      <td>0.0103</td>\n",
       "      <td>40.708164</td>\n",
       "      <td>-73.999509</td>\n",
       "      <td>NaN</td>\n",
       "      <td>(40.7081639691088, -73.9995087014816)</td>\n",
       "    </tr>\n",
       "  </tbody>\n",
       "</table>\n",
       "<p>7296 rows × 12 columns</p>\n",
       "</div>"
      ],
      "text/plain": [
       "              hour_beginning         location  Pedestrians  Towards Manhattan  \\\n",
       "0     11/12/2017 06:00:00 AM  Brooklyn Bridge           38                 23   \n",
       "1     11/29/2017 01:00:00 AM  Brooklyn Bridge           11                  7   \n",
       "2     12/17/2017 10:00:00 PM  Brooklyn Bridge          168                 99   \n",
       "3     11/10/2017 12:00:00 PM  Brooklyn Bridge         1213                506   \n",
       "4     01/24/2018 11:00:00 AM  Brooklyn Bridge          535                298   \n",
       "...                      ...              ...          ...                ...   \n",
       "7291  06/22/2018 04:00:00 AM  Brooklyn Bridge            7                  4   \n",
       "7292  07/19/2018 06:00:00 AM  Brooklyn Bridge          192                 89   \n",
       "7293  06/16/2018 04:00:00 PM  Brooklyn Bridge         2623               1161   \n",
       "7294  07/24/2018 06:00:00 PM  Brooklyn Bridge         2016               1069   \n",
       "7295  07/23/2018 12:00:00 AM  Brooklyn Bridge           57                 20   \n",
       "\n",
       "      Towards Brooklyn      weather_summary  temperature  precipitation  \\\n",
       "0                   15          clear-night         30.0         0.0000   \n",
       "1                    4          clear-night         48.0         0.0000   \n",
       "2                   69  partly-cloudy-night         35.0         0.0000   \n",
       "3                  707            clear-day         36.0         0.0001   \n",
       "4                  237    partly-cloudy-day         40.0         0.0000   \n",
       "...                ...                  ...          ...            ...   \n",
       "7291                 3  partly-cloudy-night         67.0         0.0000   \n",
       "7292               103            clear-day         65.0         0.0000   \n",
       "7293              1462            clear-day         82.0         0.0000   \n",
       "7294               947    partly-cloudy-day         80.0         0.0000   \n",
       "7295                37               cloudy         75.0         0.0103   \n",
       "\n",
       "            lat       long                 events  \\\n",
       "0     40.708164 -73.999509                    NaN   \n",
       "1     40.708164 -73.999509                    NaN   \n",
       "2     40.708164 -73.999509                    NaN   \n",
       "3     40.708164 -73.999509  Veterans Day observed   \n",
       "4     40.708164 -73.999509                    NaN   \n",
       "...         ...        ...                    ...   \n",
       "7291  40.708164 -73.999509                    NaN   \n",
       "7292  40.708164 -73.999509                    NaN   \n",
       "7293  40.708164 -73.999509                    NaN   \n",
       "7294  40.708164 -73.999509                    NaN   \n",
       "7295  40.708164 -73.999509                    NaN   \n",
       "\n",
       "                                  Location1  \n",
       "0     (40.7081639691088, -73.9995087014816)  \n",
       "1     (40.7081639691088, -73.9995087014816)  \n",
       "2     (40.7081639691088, -73.9995087014816)  \n",
       "3     (40.7081639691088, -73.9995087014816)  \n",
       "4     (40.7081639691088, -73.9995087014816)  \n",
       "...                                     ...  \n",
       "7291  (40.7081639691088, -73.9995087014816)  \n",
       "7292  (40.7081639691088, -73.9995087014816)  \n",
       "7293  (40.7081639691088, -73.9995087014816)  \n",
       "7294  (40.7081639691088, -73.9995087014816)  \n",
       "7295  (40.7081639691088, -73.9995087014816)  \n",
       "\n",
       "[7296 rows x 12 columns]"
      ]
     },
     "execution_count": 2,
     "metadata": {},
     "output_type": "execute_result"
    }
   ],
   "source": [
    "file = \"/Users/samanthagarcia/Desktop/dm&a4/Brooklyn_Bridge_Automated_Pedestrian_Counts_Demonstration_Project.csv\"\n",
    "\n",
    "df = pd.read_csv(file)\n",
    "\n",
    "df"
   ]
  },
  {
   "cell_type": "markdown",
   "metadata": {},
   "source": [
    "## value_counts()"
   ]
  },
  {
   "cell_type": "code",
   "execution_count": 3,
   "metadata": {},
   "outputs": [
    {
     "name": "stdout",
     "output_type": "stream",
     "text": [
      "40.708164    7296\n",
      "Name: lat, dtype: int64\n",
      "-73.999509    7296\n",
      "Name: long, dtype: int64\n",
      "(40.7081639691088, -73.9995087014816)    7296\n",
      "Name: Location1, dtype: int64\n",
      "Brooklyn Bridge    7296\n",
      "Name: location, dtype: int64\n"
     ]
    }
   ],
   "source": [
    "print(df[\"lat\"].value_counts()) #latitudinal position\n",
    "print(df[\"long\"].value_counts()) #longitudinal position\n",
    "print(df[\"Location1\"].value_counts()) #coordinates\n",
    "print(df[\"location\"].value_counts()) #Brooklyn Bridge"
   ]
  },
  {
   "cell_type": "markdown",
   "metadata": {},
   "source": [
    "In the description, it states that the automated counting device is located on the Manhattan approach of the Brooklyn Bridge. It makes sense that the latitudinal and longitudinal positions are all the same because the people were all counted in the same place because the device doesn't move... These columns seem unnecessary, so I will remove them."
   ]
  },
  {
   "cell_type": "markdown",
   "metadata": {},
   "source": [
    "## removing some columns"
   ]
  },
  {
   "cell_type": "code",
   "execution_count": 4,
   "metadata": {},
   "outputs": [],
   "source": [
    "df = df.drop(\"lat\", axis=1)\n",
    "df = df.drop(\"long\", axis=1)\n",
    "df = df.drop(\"Location1\", axis=1)\n",
    "df = df.drop(\"location\", axis=1)"
   ]
  },
  {
   "cell_type": "markdown",
   "metadata": {},
   "source": [
    "## transforming a column"
   ]
  },
  {
   "cell_type": "code",
   "execution_count": 5,
   "metadata": {},
   "outputs": [
    {
     "data": {
      "text/plain": [
       "0       11/12/2017 06:00:00 AM\n",
       "1       11/29/2017 01:00:00 AM\n",
       "2       12/17/2017 10:00:00 PM\n",
       "3       11/10/2017 12:00:00 PM\n",
       "4       01/24/2018 11:00:00 AM\n",
       "                 ...          \n",
       "7291    06/22/2018 04:00:00 AM\n",
       "7292    07/19/2018 06:00:00 AM\n",
       "7293    06/16/2018 04:00:00 PM\n",
       "7294    07/24/2018 06:00:00 PM\n",
       "7295    07/23/2018 12:00:00 AM\n",
       "Name: hour_beginning, Length: 7296, dtype: object"
      ]
     },
     "execution_count": 5,
     "metadata": {},
     "output_type": "execute_result"
    }
   ],
   "source": [
    "df[\"hour_beginning\"]"
   ]
  },
  {
   "cell_type": "markdown",
   "metadata": {},
   "source": [
    "I'm going to split the \"hour_beginning\" column into date & hour"
   ]
  },
  {
   "cell_type": "code",
   "execution_count": 6,
   "metadata": {},
   "outputs": [],
   "source": [
    "df[[\"date\", \"time\"]] = df.hour_beginning.str.split(\" \", n=1, expand=True)\n",
    "df = df.drop(\"hour_beginning\", axis=1)"
   ]
  },
  {
   "cell_type": "markdown",
   "metadata": {},
   "source": [
    "## type conversion"
   ]
  },
  {
   "cell_type": "code",
   "execution_count": 7,
   "metadata": {},
   "outputs": [
    {
     "data": {
      "text/plain": [
       "Pedestrians            int64\n",
       "Towards Manhattan      int64\n",
       "Towards Brooklyn       int64\n",
       "weather_summary       object\n",
       "temperature          float64\n",
       "precipitation        float64\n",
       "events                object\n",
       "date                  object\n",
       "time                  object\n",
       "dtype: object"
      ]
     },
     "execution_count": 7,
     "metadata": {},
     "output_type": "execute_result"
    }
   ],
   "source": [
    "df.dtypes"
   ]
  },
  {
   "cell_type": "code",
   "execution_count": 8,
   "metadata": {},
   "outputs": [],
   "source": [
    "df[\"date\"] = pd.to_datetime(df[\"date\"])"
   ]
  },
  {
   "cell_type": "markdown",
   "metadata": {},
   "source": [
    "## visualization"
   ]
  },
  {
   "cell_type": "code",
   "execution_count": 9,
   "metadata": {},
   "outputs": [
    {
     "name": "stdout",
     "output_type": "stream",
     "text": [
      "date\n",
      "1     744\n",
      "2     672\n",
      "3     744\n",
      "4     720\n",
      "5     744\n",
      "6     720\n",
      "7     744\n",
      "10    744\n",
      "11    720\n",
      "12    744\n",
      "dtype: int64\n"
     ]
    }
   ],
   "source": [
    "maximum = df[\"Pedestrians\"].max()\n",
    "minimum = df[\"Pedestrians\"].min()\n",
    "mean = df[\"Pedestrians\"].mean()\n",
    "\n",
    "months = df.groupby(df[\"date\"].dt.month).size()\n",
    "print(months)"
   ]
  },
  {
   "cell_type": "code",
   "execution_count": 10,
   "metadata": {},
   "outputs": [],
   "source": [
    "import matplotlib.pyplot as plt"
   ]
  },
  {
   "cell_type": "code",
   "execution_count": 11,
   "metadata": {},
   "outputs": [
    {
     "data": {
      "image/png": "[encoded data removed]",
      "text/plain": [
       "<Figure size 432x288 with 1 Axes>"
      ]
     },
     "metadata": {
      "needs_background": "light"
     },
     "output_type": "display_data"
    }
   ],
   "source": [
    "x = months.index\n",
    "height = months.values\n",
    "colors = [\"red\", \"pink\", \"orange\", \"yellow\", \"green\", \"cyan\", \"teal\", \"blue\", \"indigo\", \"violet\"]\n",
    "\n",
    "plt.title(\"Brooklyn Bridge Pedestrians per Month\")\n",
    "plt.bar(x, height, color=colors, tick_label=x)\n",
    "plt.show()"
   ]
  },
  {
   "cell_type": "code",
   "execution_count": null,
   "metadata": {},
   "outputs": [],
   "source": []
  }
 ],
 "metadata": {
  "kernelspec": {
   "display_name": "Python 3",
   "language": "python",
   "name": "python3"
  },
  "language_info": {
   "codemirror_mode": {
    "name": "ipython",
    "version": 3
   },
   "file_extension": ".py",
   "mimetype": "text/x-python",
   "name": "python",
   "nbconvert_exporter": "python",
   "pygments_lexer": "ipython3",
   "version": "3.7.4"
  }
 },
 "nbformat": 4,
 "nbformat_minor": 4
}
